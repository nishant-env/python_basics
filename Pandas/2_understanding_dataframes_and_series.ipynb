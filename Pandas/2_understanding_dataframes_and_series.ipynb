{
 "cells": [
  {
   "cell_type": "markdown",
   "id": "84ef3ac6",
   "metadata": {},
   "source": [
    "# dataframes can be visualized as dictionaries where keys are the columns and list of values are the data"
   ]
  },
  {
   "cell_type": "code",
   "execution_count": 1,
   "id": "a50e1839",
   "metadata": {},
   "outputs": [],
   "source": [
    "people={\n",
    "    \"first\": [\"Nishant\", \"Ram\", \"Shyam\"],\n",
    "    \"last\" : [\"Neupane\", \"Sitaula\", \"Dahal\"],\n",
    "    \"email\" : [\"nishant.neupane@gmail.com\",\"ram.sitaula@gmail.com\", \"shyam.dahal@gmail.com\"]\n",
    "}"
   ]
  },
  {
   "cell_type": "code",
   "execution_count": 2,
   "id": "e7f8e134",
   "metadata": {},
   "outputs": [
    {
     "data": {
      "text/plain": [
       "['nishant.neupane@gmail.com', 'ram.sitaula@gmail.com', 'shyam.dahal@gmail.com']"
      ]
     },
     "execution_count": 2,
     "metadata": {},
     "output_type": "execute_result"
    }
   ],
   "source": [
    "# to obtain a column from the dictionary, we can do as:\n",
    "people[\"email\"]"
   ]
  },
  {
   "cell_type": "code",
   "execution_count": 4,
   "id": "eef490c7",
   "metadata": {},
   "outputs": [],
   "source": [
    "# Now converting the dictionary to dataframe\n",
    "import pandas as pd\n",
    "df = pd.DataFrame(people)"
   ]
  },
  {
   "cell_type": "code",
   "execution_count": 5,
   "id": "c2bb21f6",
   "metadata": {},
   "outputs": [
    {
     "data": {
      "text/html": [
       "<div>\n",
       "<style scoped>\n",
       "    .dataframe tbody tr th:only-of-type {\n",
       "        vertical-align: middle;\n",
       "    }\n",
       "\n",
       "    .dataframe tbody tr th {\n",
       "        vertical-align: top;\n",
       "    }\n",
       "\n",
       "    .dataframe thead th {\n",
       "        text-align: right;\n",
       "    }\n",
       "</style>\n",
       "<table border=\"1\" class=\"dataframe\">\n",
       "  <thead>\n",
       "    <tr style=\"text-align: right;\">\n",
       "      <th></th>\n",
       "      <th>first</th>\n",
       "      <th>last</th>\n",
       "      <th>email</th>\n",
       "    </tr>\n",
       "  </thead>\n",
       "  <tbody>\n",
       "    <tr>\n",
       "      <th>0</th>\n",
       "      <td>Nishant</td>\n",
       "      <td>Neupane</td>\n",
       "      <td>nishant.neupane@gmail.com</td>\n",
       "    </tr>\n",
       "    <tr>\n",
       "      <th>1</th>\n",
       "      <td>Ram</td>\n",
       "      <td>Sitaula</td>\n",
       "      <td>ram.sitaula@gmail.com</td>\n",
       "    </tr>\n",
       "    <tr>\n",
       "      <th>2</th>\n",
       "      <td>Shyam</td>\n",
       "      <td>Dahal</td>\n",
       "      <td>shyam.dahal@gmail.com</td>\n",
       "    </tr>\n",
       "  </tbody>\n",
       "</table>\n",
       "</div>"
      ],
      "text/plain": [
       "     first     last                      email\n",
       "0  Nishant  Neupane  nishant.neupane@gmail.com\n",
       "1      Ram  Sitaula      ram.sitaula@gmail.com\n",
       "2    Shyam    Dahal      shyam.dahal@gmail.com"
      ]
     },
     "execution_count": 5,
     "metadata": {},
     "output_type": "execute_result"
    }
   ],
   "source": [
    "df "
   ]
  },
  {
   "cell_type": "code",
   "execution_count": 6,
   "id": "585678a5",
   "metadata": {},
   "outputs": [
    {
     "data": {
      "text/plain": [
       "0    nishant.neupane@gmail.com\n",
       "1        ram.sitaula@gmail.com\n",
       "2        shyam.dahal@gmail.com\n",
       "Name: email, dtype: object"
      ]
     },
     "execution_count": 6,
     "metadata": {},
     "output_type": "execute_result"
    }
   ],
   "source": [
    "# filteration on column level can be done in pandas as:\n",
    "# df[<a value or list>]\n",
    "\n",
    "df[\"email\"] # or df.email however 1st one is preferred\n"
   ]
  },
  {
   "cell_type": "markdown",
   "id": "410b95f7",
   "metadata": {},
   "source": [
    "### The above data is 1d array where values are the data for the column. The datatype is called pandas series. An index value is also returned along with the series object. "
   ]
  },
  {
   "cell_type": "code",
   "execution_count": 7,
   "id": "1901a07f",
   "metadata": {},
   "outputs": [
    {
     "data": {
      "text/html": [
       "<div>\n",
       "<style scoped>\n",
       "    .dataframe tbody tr th:only-of-type {\n",
       "        vertical-align: middle;\n",
       "    }\n",
       "\n",
       "    .dataframe tbody tr th {\n",
       "        vertical-align: top;\n",
       "    }\n",
       "\n",
       "    .dataframe thead th {\n",
       "        text-align: right;\n",
       "    }\n",
       "</style>\n",
       "<table border=\"1\" class=\"dataframe\">\n",
       "  <thead>\n",
       "    <tr style=\"text-align: right;\">\n",
       "      <th></th>\n",
       "      <th>first</th>\n",
       "      <th>email</th>\n",
       "    </tr>\n",
       "  </thead>\n",
       "  <tbody>\n",
       "    <tr>\n",
       "      <th>0</th>\n",
       "      <td>Nishant</td>\n",
       "      <td>nishant.neupane@gmail.com</td>\n",
       "    </tr>\n",
       "    <tr>\n",
       "      <th>1</th>\n",
       "      <td>Ram</td>\n",
       "      <td>ram.sitaula@gmail.com</td>\n",
       "    </tr>\n",
       "    <tr>\n",
       "      <th>2</th>\n",
       "      <td>Shyam</td>\n",
       "      <td>shyam.dahal@gmail.com</td>\n",
       "    </tr>\n",
       "  </tbody>\n",
       "</table>\n",
       "</div>"
      ],
      "text/plain": [
       "     first                      email\n",
       "0  Nishant  nishant.neupane@gmail.com\n",
       "1      Ram      ram.sitaula@gmail.com\n",
       "2    Shyam      shyam.dahal@gmail.com"
      ]
     },
     "execution_count": 7,
     "metadata": {},
     "output_type": "execute_result"
    }
   ],
   "source": [
    "# For filtering multiple columns, however the returned data type is also a dataframe in this case\n",
    "df[[\"first\",\"email\"]]"
   ]
  },
  {
   "cell_type": "markdown",
   "id": "1a66631e",
   "metadata": {},
   "source": [
    "## More fine grained filteration can be done using loc and iloc attributes\n",
    "### 1) iloc (index location) : iloc[row_index, column_index(optional)] <br> 2) loc: loc[row_value, column_value]\n"
   ]
  },
  {
   "cell_type": "code",
   "execution_count": 9,
   "id": "771d7acc",
   "metadata": {},
   "outputs": [
    {
     "data": {
      "text/html": [
       "<div>\n",
       "<style scoped>\n",
       "    .dataframe tbody tr th:only-of-type {\n",
       "        vertical-align: middle;\n",
       "    }\n",
       "\n",
       "    .dataframe tbody tr th {\n",
       "        vertical-align: top;\n",
       "    }\n",
       "\n",
       "    .dataframe thead th {\n",
       "        text-align: right;\n",
       "    }\n",
       "</style>\n",
       "<table border=\"1\" class=\"dataframe\">\n",
       "  <thead>\n",
       "    <tr style=\"text-align: right;\">\n",
       "      <th></th>\n",
       "      <th>first</th>\n",
       "      <th>last</th>\n",
       "    </tr>\n",
       "  </thead>\n",
       "  <tbody>\n",
       "    <tr>\n",
       "      <th>0</th>\n",
       "      <td>Nishant</td>\n",
       "      <td>Neupane</td>\n",
       "    </tr>\n",
       "    <tr>\n",
       "      <th>1</th>\n",
       "      <td>Ram</td>\n",
       "      <td>Sitaula</td>\n",
       "    </tr>\n",
       "  </tbody>\n",
       "</table>\n",
       "</div>"
      ],
      "text/plain": [
       "     first     last\n",
       "0  Nishant  Neupane\n",
       "1      Ram  Sitaula"
      ]
     },
     "execution_count": 9,
     "metadata": {},
     "output_type": "execute_result"
    }
   ],
   "source": [
    "# we can only use the index value here\n",
    "df.iloc[[0,1], [0,1]]"
   ]
  },
  {
   "cell_type": "code",
   "execution_count": 10,
   "id": "12f00e90",
   "metadata": {},
   "outputs": [
    {
     "data": {
      "text/html": [
       "<div>\n",
       "<style scoped>\n",
       "    .dataframe tbody tr th:only-of-type {\n",
       "        vertical-align: middle;\n",
       "    }\n",
       "\n",
       "    .dataframe tbody tr th {\n",
       "        vertical-align: top;\n",
       "    }\n",
       "\n",
       "    .dataframe thead th {\n",
       "        text-align: right;\n",
       "    }\n",
       "</style>\n",
       "<table border=\"1\" class=\"dataframe\">\n",
       "  <thead>\n",
       "    <tr style=\"text-align: right;\">\n",
       "      <th></th>\n",
       "      <th>email</th>\n",
       "    </tr>\n",
       "  </thead>\n",
       "  <tbody>\n",
       "    <tr>\n",
       "      <th>0</th>\n",
       "      <td>nishant.neupane@gmail.com</td>\n",
       "    </tr>\n",
       "    <tr>\n",
       "      <th>1</th>\n",
       "      <td>ram.sitaula@gmail.com</td>\n",
       "    </tr>\n",
       "  </tbody>\n",
       "</table>\n",
       "</div>"
      ],
      "text/plain": [
       "                       email\n",
       "0  nishant.neupane@gmail.com\n",
       "1      ram.sitaula@gmail.com"
      ]
     },
     "execution_count": 10,
     "metadata": {},
     "output_type": "execute_result"
    }
   ],
   "source": [
    "# we can use index names here\n",
    "df.loc[[0,1], [\"email\"]]"
   ]
  },
  {
   "cell_type": "code",
   "execution_count": null,
   "id": "ee5a0805",
   "metadata": {},
   "outputs": [],
   "source": []
  }
 ],
 "metadata": {
  "kernelspec": {
   "display_name": "Python 3 (ipykernel)",
   "language": "python",
   "name": "python3"
  },
  "language_info": {
   "codemirror_mode": {
    "name": "ipython",
    "version": 3
   },
   "file_extension": ".py",
   "mimetype": "text/x-python",
   "name": "python",
   "nbconvert_exporter": "python",
   "pygments_lexer": "ipython3",
   "version": "3.10.6"
  }
 },
 "nbformat": 4,
 "nbformat_minor": 5
}
