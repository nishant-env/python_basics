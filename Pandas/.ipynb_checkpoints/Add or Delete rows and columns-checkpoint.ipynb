{
 "cells": [
  {
   "cell_type": "code",
   "execution_count": 1,
   "id": "3e2a9e89",
   "metadata": {},
   "outputs": [],
   "source": [
    "people={\n",
    "    \"first\": [\"Nishant\", \"Ram\", \"Shyam\"],\n",
    "    \"last\" : [\"Neupane\", \"Sitaula\", \"Dahal\"],\n",
    "    \"email\" : [\"nishant.neupane@gmail.com\",\"ram.sitaula@gmail.com\", \"shyam.dahal@gmail.com\"]\n",
    "}\n",
    "import pandas as pd\n",
    "df = pd.DataFrame(people)"
   ]
  },
  {
   "cell_type": "markdown",
   "id": "d9ac0975",
   "metadata": {},
   "source": [
    "### Adding new column to existing dataframe (by manipulating existing columns)\n"
   ]
  },
  {
   "cell_type": "code",
   "execution_count": 2,
   "id": "12b99ee0",
   "metadata": {},
   "outputs": [],
   "source": [
    "df['full_name'] = df['first'] + ' ' + df['last']"
   ]
  },
  {
   "cell_type": "code",
   "execution_count": 3,
   "id": "9a4e8848",
   "metadata": {},
   "outputs": [
    {
     "data": {
      "text/html": [
       "<div>\n",
       "<style scoped>\n",
       "    .dataframe tbody tr th:only-of-type {\n",
       "        vertical-align: middle;\n",
       "    }\n",
       "\n",
       "    .dataframe tbody tr th {\n",
       "        vertical-align: top;\n",
       "    }\n",
       "\n",
       "    .dataframe thead th {\n",
       "        text-align: right;\n",
       "    }\n",
       "</style>\n",
       "<table border=\"1\" class=\"dataframe\">\n",
       "  <thead>\n",
       "    <tr style=\"text-align: right;\">\n",
       "      <th></th>\n",
       "      <th>first</th>\n",
       "      <th>last</th>\n",
       "      <th>email</th>\n",
       "      <th>full_name</th>\n",
       "    </tr>\n",
       "  </thead>\n",
       "  <tbody>\n",
       "    <tr>\n",
       "      <th>0</th>\n",
       "      <td>Nishant</td>\n",
       "      <td>Neupane</td>\n",
       "      <td>nishant.neupane@gmail.com</td>\n",
       "      <td>Nishant Neupane</td>\n",
       "    </tr>\n",
       "    <tr>\n",
       "      <th>1</th>\n",
       "      <td>Ram</td>\n",
       "      <td>Sitaula</td>\n",
       "      <td>ram.sitaula@gmail.com</td>\n",
       "      <td>Ram Sitaula</td>\n",
       "    </tr>\n",
       "    <tr>\n",
       "      <th>2</th>\n",
       "      <td>Shyam</td>\n",
       "      <td>Dahal</td>\n",
       "      <td>shyam.dahal@gmail.com</td>\n",
       "      <td>Shyam Dahal</td>\n",
       "    </tr>\n",
       "  </tbody>\n",
       "</table>\n",
       "</div>"
      ],
      "text/plain": [
       "     first     last                      email        full_name\n",
       "0  Nishant  Neupane  nishant.neupane@gmail.com  Nishant Neupane\n",
       "1      Ram  Sitaula      ram.sitaula@gmail.com      Ram Sitaula\n",
       "2    Shyam    Dahal      shyam.dahal@gmail.com      Shyam Dahal"
      ]
     },
     "execution_count": 3,
     "metadata": {},
     "output_type": "execute_result"
    }
   ],
   "source": [
    "df"
   ]
  },
  {
   "cell_type": "markdown",
   "id": "3c1871c7",
   "metadata": {},
   "source": [
    "### Dropping columns"
   ]
  },
  {
   "cell_type": "code",
   "execution_count": 4,
   "id": "fc4ea7f6",
   "metadata": {},
   "outputs": [
    {
     "data": {
      "text/html": [
       "<div>\n",
       "<style scoped>\n",
       "    .dataframe tbody tr th:only-of-type {\n",
       "        vertical-align: middle;\n",
       "    }\n",
       "\n",
       "    .dataframe tbody tr th {\n",
       "        vertical-align: top;\n",
       "    }\n",
       "\n",
       "    .dataframe thead th {\n",
       "        text-align: right;\n",
       "    }\n",
       "</style>\n",
       "<table border=\"1\" class=\"dataframe\">\n",
       "  <thead>\n",
       "    <tr style=\"text-align: right;\">\n",
       "      <th></th>\n",
       "      <th>email</th>\n",
       "      <th>full_name</th>\n",
       "    </tr>\n",
       "  </thead>\n",
       "  <tbody>\n",
       "    <tr>\n",
       "      <th>0</th>\n",
       "      <td>nishant.neupane@gmail.com</td>\n",
       "      <td>Nishant Neupane</td>\n",
       "    </tr>\n",
       "    <tr>\n",
       "      <th>1</th>\n",
       "      <td>ram.sitaula@gmail.com</td>\n",
       "      <td>Ram Sitaula</td>\n",
       "    </tr>\n",
       "    <tr>\n",
       "      <th>2</th>\n",
       "      <td>shyam.dahal@gmail.com</td>\n",
       "      <td>Shyam Dahal</td>\n",
       "    </tr>\n",
       "  </tbody>\n",
       "</table>\n",
       "</div>"
      ],
      "text/plain": [
       "                       email        full_name\n",
       "0  nishant.neupane@gmail.com  Nishant Neupane\n",
       "1      ram.sitaula@gmail.com      Ram Sitaula\n",
       "2      shyam.dahal@gmail.com      Shyam Dahal"
      ]
     },
     "execution_count": 4,
     "metadata": {},
     "output_type": "execute_result"
    }
   ],
   "source": [
    "df.drop(columns=['first', 'last'])"
   ]
  },
  {
   "cell_type": "code",
   "execution_count": 5,
   "id": "92aa5aad",
   "metadata": {},
   "outputs": [
    {
     "data": {
      "text/html": [
       "<div>\n",
       "<style scoped>\n",
       "    .dataframe tbody tr th:only-of-type {\n",
       "        vertical-align: middle;\n",
       "    }\n",
       "\n",
       "    .dataframe tbody tr th {\n",
       "        vertical-align: top;\n",
       "    }\n",
       "\n",
       "    .dataframe thead th {\n",
       "        text-align: right;\n",
       "    }\n",
       "</style>\n",
       "<table border=\"1\" class=\"dataframe\">\n",
       "  <thead>\n",
       "    <tr style=\"text-align: right;\">\n",
       "      <th></th>\n",
       "      <th>last</th>\n",
       "      <th>email</th>\n",
       "      <th>full_name</th>\n",
       "    </tr>\n",
       "  </thead>\n",
       "  <tbody>\n",
       "    <tr>\n",
       "      <th>0</th>\n",
       "      <td>Neupane</td>\n",
       "      <td>nishant.neupane@gmail.com</td>\n",
       "      <td>Nishant Neupane</td>\n",
       "    </tr>\n",
       "    <tr>\n",
       "      <th>1</th>\n",
       "      <td>Sitaula</td>\n",
       "      <td>ram.sitaula@gmail.com</td>\n",
       "      <td>Ram Sitaula</td>\n",
       "    </tr>\n",
       "    <tr>\n",
       "      <th>2</th>\n",
       "      <td>Dahal</td>\n",
       "      <td>shyam.dahal@gmail.com</td>\n",
       "      <td>Shyam Dahal</td>\n",
       "    </tr>\n",
       "  </tbody>\n",
       "</table>\n",
       "</div>"
      ],
      "text/plain": [
       "      last                      email        full_name\n",
       "0  Neupane  nishant.neupane@gmail.com  Nishant Neupane\n",
       "1  Sitaula      ram.sitaula@gmail.com      Ram Sitaula\n",
       "2    Dahal      shyam.dahal@gmail.com      Shyam Dahal"
      ]
     },
     "execution_count": 5,
     "metadata": {},
     "output_type": "execute_result"
    }
   ],
   "source": [
    "df.drop(columns='first')"
   ]
  },
  {
   "cell_type": "code",
   "execution_count": 6,
   "id": "1327bec2",
   "metadata": {},
   "outputs": [],
   "source": [
    "df.drop(columns=['first', 'last'], inplace=True)"
   ]
  },
  {
   "cell_type": "markdown",
   "id": "b2cea16a",
   "metadata": {},
   "source": [
    "## Splitting a column value into two columns (delimited by space)"
   ]
  },
  {
   "cell_type": "code",
   "execution_count": 7,
   "id": "b3629130",
   "metadata": {},
   "outputs": [
    {
     "data": {
      "text/html": [
       "<div>\n",
       "<style scoped>\n",
       "    .dataframe tbody tr th:only-of-type {\n",
       "        vertical-align: middle;\n",
       "    }\n",
       "\n",
       "    .dataframe tbody tr th {\n",
       "        vertical-align: top;\n",
       "    }\n",
       "\n",
       "    .dataframe thead th {\n",
       "        text-align: right;\n",
       "    }\n",
       "</style>\n",
       "<table border=\"1\" class=\"dataframe\">\n",
       "  <thead>\n",
       "    <tr style=\"text-align: right;\">\n",
       "      <th></th>\n",
       "      <th>email</th>\n",
       "      <th>full_name</th>\n",
       "    </tr>\n",
       "  </thead>\n",
       "  <tbody>\n",
       "    <tr>\n",
       "      <th>0</th>\n",
       "      <td>nishant.neupane@gmail.com</td>\n",
       "      <td>Nishant Neupane</td>\n",
       "    </tr>\n",
       "    <tr>\n",
       "      <th>1</th>\n",
       "      <td>ram.sitaula@gmail.com</td>\n",
       "      <td>Ram Sitaula</td>\n",
       "    </tr>\n",
       "    <tr>\n",
       "      <th>2</th>\n",
       "      <td>shyam.dahal@gmail.com</td>\n",
       "      <td>Shyam Dahal</td>\n",
       "    </tr>\n",
       "  </tbody>\n",
       "</table>\n",
       "</div>"
      ],
      "text/plain": [
       "                       email        full_name\n",
       "0  nishant.neupane@gmail.com  Nishant Neupane\n",
       "1      ram.sitaula@gmail.com      Ram Sitaula\n",
       "2      shyam.dahal@gmail.com      Shyam Dahal"
      ]
     },
     "execution_count": 7,
     "metadata": {},
     "output_type": "execute_result"
    }
   ],
   "source": [
    "df"
   ]
  },
  {
   "cell_type": "code",
   "execution_count": 8,
   "id": "6a0e31c6",
   "metadata": {},
   "outputs": [],
   "source": [
    "df[['first', 'last']] = df['full_name'].str.split(' ', expand=True)"
   ]
  },
  {
   "cell_type": "code",
   "execution_count": 9,
   "id": "6559c6f3",
   "metadata": {},
   "outputs": [
    {
     "data": {
      "text/html": [
       "<div>\n",
       "<style scoped>\n",
       "    .dataframe tbody tr th:only-of-type {\n",
       "        vertical-align: middle;\n",
       "    }\n",
       "\n",
       "    .dataframe tbody tr th {\n",
       "        vertical-align: top;\n",
       "    }\n",
       "\n",
       "    .dataframe thead th {\n",
       "        text-align: right;\n",
       "    }\n",
       "</style>\n",
       "<table border=\"1\" class=\"dataframe\">\n",
       "  <thead>\n",
       "    <tr style=\"text-align: right;\">\n",
       "      <th></th>\n",
       "      <th>email</th>\n",
       "      <th>full_name</th>\n",
       "      <th>first</th>\n",
       "      <th>last</th>\n",
       "    </tr>\n",
       "  </thead>\n",
       "  <tbody>\n",
       "    <tr>\n",
       "      <th>0</th>\n",
       "      <td>nishant.neupane@gmail.com</td>\n",
       "      <td>Nishant Neupane</td>\n",
       "      <td>Nishant</td>\n",
       "      <td>Neupane</td>\n",
       "    </tr>\n",
       "    <tr>\n",
       "      <th>1</th>\n",
       "      <td>ram.sitaula@gmail.com</td>\n",
       "      <td>Ram Sitaula</td>\n",
       "      <td>Ram</td>\n",
       "      <td>Sitaula</td>\n",
       "    </tr>\n",
       "    <tr>\n",
       "      <th>2</th>\n",
       "      <td>shyam.dahal@gmail.com</td>\n",
       "      <td>Shyam Dahal</td>\n",
       "      <td>Shyam</td>\n",
       "      <td>Dahal</td>\n",
       "    </tr>\n",
       "  </tbody>\n",
       "</table>\n",
       "</div>"
      ],
      "text/plain": [
       "                       email        full_name    first     last\n",
       "0  nishant.neupane@gmail.com  Nishant Neupane  Nishant  Neupane\n",
       "1      ram.sitaula@gmail.com      Ram Sitaula      Ram  Sitaula\n",
       "2      shyam.dahal@gmail.com      Shyam Dahal    Shyam    Dahal"
      ]
     },
     "execution_count": 9,
     "metadata": {},
     "output_type": "execute_result"
    }
   ],
   "source": [
    "df "
   ]
  },
  {
   "cell_type": "markdown",
   "id": "5df20fc3",
   "metadata": {},
   "source": [
    "### Appending a new row and appending new dataframe to existing df"
   ]
  },
  {
   "cell_type": "code",
   "execution_count": 10,
   "id": "941355b6",
   "metadata": {},
   "outputs": [
    {
     "data": {
      "text/html": [
       "<div>\n",
       "<style scoped>\n",
       "    .dataframe tbody tr th:only-of-type {\n",
       "        vertical-align: middle;\n",
       "    }\n",
       "\n",
       "    .dataframe tbody tr th {\n",
       "        vertical-align: top;\n",
       "    }\n",
       "\n",
       "    .dataframe thead th {\n",
       "        text-align: right;\n",
       "    }\n",
       "</style>\n",
       "<table border=\"1\" class=\"dataframe\">\n",
       "  <thead>\n",
       "    <tr style=\"text-align: right;\">\n",
       "      <th></th>\n",
       "      <th>email</th>\n",
       "      <th>full_name</th>\n",
       "      <th>first</th>\n",
       "      <th>last</th>\n",
       "    </tr>\n",
       "  </thead>\n",
       "  <tbody>\n",
       "    <tr>\n",
       "      <th>0</th>\n",
       "      <td>nishant.neupane@gmail.com</td>\n",
       "      <td>Nishant Neupane</td>\n",
       "      <td>Nishant</td>\n",
       "      <td>Neupane</td>\n",
       "    </tr>\n",
       "    <tr>\n",
       "      <th>1</th>\n",
       "      <td>ram.sitaula@gmail.com</td>\n",
       "      <td>Ram Sitaula</td>\n",
       "      <td>Ram</td>\n",
       "      <td>Sitaula</td>\n",
       "    </tr>\n",
       "    <tr>\n",
       "      <th>2</th>\n",
       "      <td>shyam.dahal@gmail.com</td>\n",
       "      <td>Shyam Dahal</td>\n",
       "      <td>Shyam</td>\n",
       "      <td>Dahal</td>\n",
       "    </tr>\n",
       "    <tr>\n",
       "      <th>3</th>\n",
       "      <td>NaN</td>\n",
       "      <td>NaN</td>\n",
       "      <td>Hari</td>\n",
       "      <td>NaN</td>\n",
       "    </tr>\n",
       "  </tbody>\n",
       "</table>\n",
       "</div>"
      ],
      "text/plain": [
       "                       email        full_name    first     last\n",
       "0  nishant.neupane@gmail.com  Nishant Neupane  Nishant  Neupane\n",
       "1      ram.sitaula@gmail.com      Ram Sitaula      Ram  Sitaula\n",
       "2      shyam.dahal@gmail.com      Shyam Dahal    Shyam    Dahal\n",
       "3                        NaN              NaN     Hari      NaN"
      ]
     },
     "execution_count": 10,
     "metadata": {},
     "output_type": "execute_result"
    }
   ],
   "source": [
    "pd.concat([df, pd.DataFrame({\"first\" : [\"Hari\"]})], ignore_index=True)\n",
    "# ignore index ignores the index of new dataframe"
   ]
  },
  {
   "cell_type": "markdown",
   "id": "caf99d25",
   "metadata": {},
   "source": [
    "## Appending a new dataframe onto another dataframe"
   ]
  },
  {
   "cell_type": "code",
   "execution_count": 11,
   "id": "c214676f",
   "metadata": {},
   "outputs": [],
   "source": [
    "# lets create a new dataframe\n",
    "people={\n",
    "    \"first\": [\"Test1\", \"Test2\"],\n",
    "    \"last\" : [\"Test3\", \"Test4\"],\n",
    "    \"email\" : [\"test1@email.com\",\"test2@email.com\"]\n",
    "}\n",
    "df2 = pd.DataFrame(people)"
   ]
  },
  {
   "cell_type": "code",
   "execution_count": 12,
   "id": "30fe652a",
   "metadata": {},
   "outputs": [
    {
     "data": {
      "text/html": [
       "<div>\n",
       "<style scoped>\n",
       "    .dataframe tbody tr th:only-of-type {\n",
       "        vertical-align: middle;\n",
       "    }\n",
       "\n",
       "    .dataframe tbody tr th {\n",
       "        vertical-align: top;\n",
       "    }\n",
       "\n",
       "    .dataframe thead th {\n",
       "        text-align: right;\n",
       "    }\n",
       "</style>\n",
       "<table border=\"1\" class=\"dataframe\">\n",
       "  <thead>\n",
       "    <tr style=\"text-align: right;\">\n",
       "      <th></th>\n",
       "      <th>email</th>\n",
       "      <th>full_name</th>\n",
       "      <th>first</th>\n",
       "      <th>last</th>\n",
       "    </tr>\n",
       "  </thead>\n",
       "  <tbody>\n",
       "    <tr>\n",
       "      <th>0</th>\n",
       "      <td>nishant.neupane@gmail.com</td>\n",
       "      <td>Nishant Neupane</td>\n",
       "      <td>Nishant</td>\n",
       "      <td>Neupane</td>\n",
       "    </tr>\n",
       "    <tr>\n",
       "      <th>1</th>\n",
       "      <td>ram.sitaula@gmail.com</td>\n",
       "      <td>Ram Sitaula</td>\n",
       "      <td>Ram</td>\n",
       "      <td>Sitaula</td>\n",
       "    </tr>\n",
       "    <tr>\n",
       "      <th>2</th>\n",
       "      <td>shyam.dahal@gmail.com</td>\n",
       "      <td>Shyam Dahal</td>\n",
       "      <td>Shyam</td>\n",
       "      <td>Dahal</td>\n",
       "    </tr>\n",
       "    <tr>\n",
       "      <th>0</th>\n",
       "      <td>test1@email.com</td>\n",
       "      <td>NaN</td>\n",
       "      <td>Test1</td>\n",
       "      <td>Test3</td>\n",
       "    </tr>\n",
       "    <tr>\n",
       "      <th>1</th>\n",
       "      <td>test2@email.com</td>\n",
       "      <td>NaN</td>\n",
       "      <td>Test2</td>\n",
       "      <td>Test4</td>\n",
       "    </tr>\n",
       "  </tbody>\n",
       "</table>\n",
       "</div>"
      ],
      "text/plain": [
       "                       email        full_name    first     last\n",
       "0  nishant.neupane@gmail.com  Nishant Neupane  Nishant  Neupane\n",
       "1      ram.sitaula@gmail.com      Ram Sitaula      Ram  Sitaula\n",
       "2      shyam.dahal@gmail.com      Shyam Dahal    Shyam    Dahal\n",
       "0            test1@email.com              NaN    Test1    Test3\n",
       "1            test2@email.com              NaN    Test2    Test4"
      ]
     },
     "execution_count": 12,
     "metadata": {},
     "output_type": "execute_result"
    }
   ],
   "source": [
    "pd.concat([df, df2])"
   ]
  },
  {
   "cell_type": "code",
   "execution_count": 13,
   "id": "20117d11",
   "metadata": {},
   "outputs": [
    {
     "data": {
      "text/html": [
       "<div>\n",
       "<style scoped>\n",
       "    .dataframe tbody tr th:only-of-type {\n",
       "        vertical-align: middle;\n",
       "    }\n",
       "\n",
       "    .dataframe tbody tr th {\n",
       "        vertical-align: top;\n",
       "    }\n",
       "\n",
       "    .dataframe thead th {\n",
       "        text-align: right;\n",
       "    }\n",
       "</style>\n",
       "<table border=\"1\" class=\"dataframe\">\n",
       "  <thead>\n",
       "    <tr style=\"text-align: right;\">\n",
       "      <th></th>\n",
       "      <th>email</th>\n",
       "      <th>full_name</th>\n",
       "      <th>first</th>\n",
       "      <th>last</th>\n",
       "    </tr>\n",
       "  </thead>\n",
       "  <tbody>\n",
       "    <tr>\n",
       "      <th>0</th>\n",
       "      <td>nishant.neupane@gmail.com</td>\n",
       "      <td>Nishant Neupane</td>\n",
       "      <td>Nishant</td>\n",
       "      <td>Neupane</td>\n",
       "    </tr>\n",
       "    <tr>\n",
       "      <th>1</th>\n",
       "      <td>ram.sitaula@gmail.com</td>\n",
       "      <td>Ram Sitaula</td>\n",
       "      <td>Ram</td>\n",
       "      <td>Sitaula</td>\n",
       "    </tr>\n",
       "    <tr>\n",
       "      <th>2</th>\n",
       "      <td>shyam.dahal@gmail.com</td>\n",
       "      <td>Shyam Dahal</td>\n",
       "      <td>Shyam</td>\n",
       "      <td>Dahal</td>\n",
       "    </tr>\n",
       "    <tr>\n",
       "      <th>3</th>\n",
       "      <td>test1@email.com</td>\n",
       "      <td>NaN</td>\n",
       "      <td>Test1</td>\n",
       "      <td>Test3</td>\n",
       "    </tr>\n",
       "    <tr>\n",
       "      <th>4</th>\n",
       "      <td>test2@email.com</td>\n",
       "      <td>NaN</td>\n",
       "      <td>Test2</td>\n",
       "      <td>Test4</td>\n",
       "    </tr>\n",
       "  </tbody>\n",
       "</table>\n",
       "</div>"
      ],
      "text/plain": [
       "                       email        full_name    first     last\n",
       "0  nishant.neupane@gmail.com  Nishant Neupane  Nishant  Neupane\n",
       "1      ram.sitaula@gmail.com      Ram Sitaula      Ram  Sitaula\n",
       "2      shyam.dahal@gmail.com      Shyam Dahal    Shyam    Dahal\n",
       "3            test1@email.com              NaN    Test1    Test3\n",
       "4            test2@email.com              NaN    Test2    Test4"
      ]
     },
     "execution_count": 13,
     "metadata": {},
     "output_type": "execute_result"
    }
   ],
   "source": [
    "# to continue the index,\n",
    "df = pd.concat([df, df2], ignore_index=True)\n",
    "df"
   ]
  },
  {
   "cell_type": "markdown",
   "id": "d14895ee",
   "metadata": {},
   "source": [
    "## Dropping rows"
   ]
  },
  {
   "cell_type": "code",
   "execution_count": 15,
   "id": "39c14618",
   "metadata": {},
   "outputs": [
    {
     "data": {
      "text/html": [
       "<div>\n",
       "<style scoped>\n",
       "    .dataframe tbody tr th:only-of-type {\n",
       "        vertical-align: middle;\n",
       "    }\n",
       "\n",
       "    .dataframe tbody tr th {\n",
       "        vertical-align: top;\n",
       "    }\n",
       "\n",
       "    .dataframe thead th {\n",
       "        text-align: right;\n",
       "    }\n",
       "</style>\n",
       "<table border=\"1\" class=\"dataframe\">\n",
       "  <thead>\n",
       "    <tr style=\"text-align: right;\">\n",
       "      <th></th>\n",
       "      <th>email</th>\n",
       "      <th>full_name</th>\n",
       "      <th>first</th>\n",
       "      <th>last</th>\n",
       "    </tr>\n",
       "  </thead>\n",
       "  <tbody>\n",
       "    <tr>\n",
       "      <th>0</th>\n",
       "      <td>nishant.neupane@gmail.com</td>\n",
       "      <td>Nishant Neupane</td>\n",
       "      <td>Nishant</td>\n",
       "      <td>Neupane</td>\n",
       "    </tr>\n",
       "    <tr>\n",
       "      <th>1</th>\n",
       "      <td>ram.sitaula@gmail.com</td>\n",
       "      <td>Ram Sitaula</td>\n",
       "      <td>Ram</td>\n",
       "      <td>Sitaula</td>\n",
       "    </tr>\n",
       "    <tr>\n",
       "      <th>2</th>\n",
       "      <td>shyam.dahal@gmail.com</td>\n",
       "      <td>Shyam Dahal</td>\n",
       "      <td>Shyam</td>\n",
       "      <td>Dahal</td>\n",
       "    </tr>\n",
       "    <tr>\n",
       "      <th>3</th>\n",
       "      <td>test1@email.com</td>\n",
       "      <td>NaN</td>\n",
       "      <td>Test1</td>\n",
       "      <td>Test3</td>\n",
       "    </tr>\n",
       "  </tbody>\n",
       "</table>\n",
       "</div>"
      ],
      "text/plain": [
       "                       email        full_name    first     last\n",
       "0  nishant.neupane@gmail.com  Nishant Neupane  Nishant  Neupane\n",
       "1      ram.sitaula@gmail.com      Ram Sitaula      Ram  Sitaula\n",
       "2      shyam.dahal@gmail.com      Shyam Dahal    Shyam    Dahal\n",
       "3            test1@email.com              NaN    Test1    Test3"
      ]
     },
     "execution_count": 15,
     "metadata": {},
     "output_type": "execute_result"
    }
   ],
   "source": [
    "# dropping row of index 4\n",
    "df.drop(index=4)"
   ]
  },
  {
   "cell_type": "code",
   "execution_count": 21,
   "id": "6cb5235b",
   "metadata": {},
   "outputs": [],
   "source": [
    "# dropping all rows that contains last name as Dahal\n",
    "\n",
    "filt = df[df['last'] == 'Dahal'].index # gives a list of indexes\n",
    "df.drop(index=filt, inplace=True)"
   ]
  },
  {
   "cell_type": "code",
   "execution_count": 22,
   "id": "2b933450",
   "metadata": {},
   "outputs": [
    {
     "data": {
      "text/html": [
       "<div>\n",
       "<style scoped>\n",
       "    .dataframe tbody tr th:only-of-type {\n",
       "        vertical-align: middle;\n",
       "    }\n",
       "\n",
       "    .dataframe tbody tr th {\n",
       "        vertical-align: top;\n",
       "    }\n",
       "\n",
       "    .dataframe thead th {\n",
       "        text-align: right;\n",
       "    }\n",
       "</style>\n",
       "<table border=\"1\" class=\"dataframe\">\n",
       "  <thead>\n",
       "    <tr style=\"text-align: right;\">\n",
       "      <th></th>\n",
       "      <th>email</th>\n",
       "      <th>full_name</th>\n",
       "      <th>first</th>\n",
       "      <th>last</th>\n",
       "    </tr>\n",
       "  </thead>\n",
       "  <tbody>\n",
       "    <tr>\n",
       "      <th>0</th>\n",
       "      <td>nishant.neupane@gmail.com</td>\n",
       "      <td>Nishant Neupane</td>\n",
       "      <td>Nishant</td>\n",
       "      <td>Neupane</td>\n",
       "    </tr>\n",
       "    <tr>\n",
       "      <th>1</th>\n",
       "      <td>ram.sitaula@gmail.com</td>\n",
       "      <td>Ram Sitaula</td>\n",
       "      <td>Ram</td>\n",
       "      <td>Sitaula</td>\n",
       "    </tr>\n",
       "    <tr>\n",
       "      <th>3</th>\n",
       "      <td>test1@email.com</td>\n",
       "      <td>NaN</td>\n",
       "      <td>Test1</td>\n",
       "      <td>Test3</td>\n",
       "    </tr>\n",
       "    <tr>\n",
       "      <th>4</th>\n",
       "      <td>test2@email.com</td>\n",
       "      <td>NaN</td>\n",
       "      <td>Test2</td>\n",
       "      <td>Test4</td>\n",
       "    </tr>\n",
       "  </tbody>\n",
       "</table>\n",
       "</div>"
      ],
      "text/plain": [
       "                       email        full_name    first     last\n",
       "0  nishant.neupane@gmail.com  Nishant Neupane  Nishant  Neupane\n",
       "1      ram.sitaula@gmail.com      Ram Sitaula      Ram  Sitaula\n",
       "3            test1@email.com              NaN    Test1    Test3\n",
       "4            test2@email.com              NaN    Test2    Test4"
      ]
     },
     "execution_count": 22,
     "metadata": {},
     "output_type": "execute_result"
    }
   ],
   "source": [
    "df"
   ]
  },
  {
   "cell_type": "code",
   "execution_count": null,
   "id": "f4157601",
   "metadata": {},
   "outputs": [],
   "source": []
  }
 ],
 "metadata": {
  "kernelspec": {
   "display_name": "Python 3 (ipykernel)",
   "language": "python",
   "name": "python3"
  },
  "language_info": {
   "codemirror_mode": {
    "name": "ipython",
    "version": 3
   },
   "file_extension": ".py",
   "mimetype": "text/x-python",
   "name": "python",
   "nbconvert_exporter": "python",
   "pygments_lexer": "ipython3",
   "version": "3.10.6"
  }
 },
 "nbformat": 4,
 "nbformat_minor": 5
}
