{
 "cells": [
  {
   "cell_type": "code",
   "execution_count": 1,
   "id": "136dbcdb",
   "metadata": {},
   "outputs": [],
   "source": [
    "import pandas as pd"
   ]
  },
  {
   "cell_type": "markdown",
   "id": "a89f7333",
   "metadata": {},
   "source": [
    "## Reading csv\n",
    "pd.read_csv('location')\n",
    "\n",
    "## Writing to csv\n",
    "pd.to_csv('location.csv')\n",
    "\n",
    "## Writing to tsv\n",
    "pd.to_csv('location.tsv', sep='\\t')\n",
    "\n",
    "## Writing to excel xlsx file\n",
    "first pip install xlwt openpyxl xlrd\n",
    "\n",
    "pd.to_excel('location.xlsx')\n",
    "\n",
    "## Reading from a excel file\n",
    "pd.read_excel('location.xlsx', index_col='')"
   ]
  },
  {
   "cell_type": "markdown",
   "id": "9dd62641",
   "metadata": {},
   "source": [
    "# Working with json\n",
    "df.to_json('location.json')\n",
    "\n",
    "## reading from a json\n",
    "pd.read_json('location.json')"
   ]
  },
  {
   "cell_type": "code",
   "execution_count": null,
   "id": "f0ae100d",
   "metadata": {},
   "outputs": [],
   "source": []
  }
 ],
 "metadata": {
  "kernelspec": {
   "display_name": "Python 3 (ipykernel)",
   "language": "python",
   "name": "python3"
  },
  "language_info": {
   "codemirror_mode": {
    "name": "ipython",
    "version": 3
   },
   "file_extension": ".py",
   "mimetype": "text/x-python",
   "name": "python",
   "nbconvert_exporter": "python",
   "pygments_lexer": "ipython3",
   "version": "3.10.6"
  }
 },
 "nbformat": 4,
 "nbformat_minor": 5
}
