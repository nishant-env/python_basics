{
 "cells": [
  {
   "cell_type": "code",
   "execution_count": 1,
   "id": "9f70b021",
   "metadata": {},
   "outputs": [
    {
     "name": "stdout",
     "output_type": "stream",
     "text": [
      "10\n"
     ]
    }
   ],
   "source": [
    "## a simple closure demo\n",
    "\n",
    "def outer_func():\n",
    "    n = 10\n",
    "    \n",
    "    def inner_func():\n",
    "        print(n)\n",
    "        \n",
    "    return inner_func\n",
    "    \n",
    "returned_func = outer_func()\n",
    "returned_func()"
   ]
  },
  {
   "cell_type": "markdown",
   "id": "14aad3a2",
   "metadata": {},
   "source": [
    "<h1> In the above example,</h1> <h2> although outer function has finished executing, the value n=10 is preserved through inner_func which can then be used by calling the returned_func() </h2>"
   ]
  },
  {
   "cell_type": "code",
   "execution_count": 2,
   "id": "20a23996",
   "metadata": {},
   "outputs": [
    {
     "name": "stdout",
     "output_type": "stream",
     "text": [
      "30\n"
     ]
    }
   ],
   "source": [
    "## a lambda anonymous function can be used to define a closure\n",
    "\n",
    "def outer_func():\n",
    "    value=10\n",
    "    return lambda: print(value+20)\n",
    "\n",
    "returned = outer_func()\n",
    "returned()"
   ]
  },
  {
   "cell_type": "code",
   "execution_count": 4,
   "id": "c6ba9eef",
   "metadata": {},
   "outputs": [
    {
     "name": "stdout",
     "output_type": "stream",
     "text": [
      "inner_function\n",
      "Message is 'Hello world' from Nishant\n"
     ]
    }
   ],
   "source": [
    "## a simple example to demo how arguments are passed within outer and inner function\n",
    "\n",
    "def outer_function(message):\n",
    "    def inner_function(name):\n",
    "        print(f\"Message is '{message}' from {name}\")\n",
    "    return inner_function\n",
    "\n",
    "inner_returned = outer_function(\"Hello world\")\n",
    "print(inner_returned.__name__) ### this is the inner function returned without execution\n",
    "\n",
    "# now executing the inner function for execution\n",
    "inner_returned('Nishant')"
   ]
  },
  {
   "cell_type": "code",
   "execution_count": null,
   "id": "045d03d3",
   "metadata": {},
   "outputs": [],
   "source": []
  }
 ],
 "metadata": {
  "kernelspec": {
   "display_name": "Python 3 (ipykernel)",
   "language": "python",
   "name": "python3"
  },
  "language_info": {
   "codemirror_mode": {
    "name": "ipython",
    "version": 3
   },
   "file_extension": ".py",
   "mimetype": "text/x-python",
   "name": "python",
   "nbconvert_exporter": "python",
   "pygments_lexer": "ipython3",
   "version": "3.10.6"
  }
 },
 "nbformat": 4,
 "nbformat_minor": 5
}
