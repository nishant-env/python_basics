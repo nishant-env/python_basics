{
 "cells": [
  {
   "cell_type": "code",
   "execution_count": 3,
   "id": "da832285",
   "metadata": {},
   "outputs": [
    {
     "name": "stdout",
     "output_type": "stream",
     "text": [
      "executing the hello_world  function\n",
      "hello world\n"
     ]
    }
   ],
   "source": [
    "## demonstrating the decoractor concept using closure\n",
    "\n",
    "def outer_func(func):\n",
    "    \n",
    "    def inner_func():\n",
    "        print(\"executing the\", func.__name__,\" function\")\n",
    "        func()\n",
    "        \n",
    "    return inner_func\n",
    "\n",
    "\n",
    "def hello_world():\n",
    "    print(\"hello world\")\n",
    "\n",
    "return_func = outer_func(hello_world)\n",
    "return_func()"
   ]
  },
  {
   "cell_type": "markdown",
   "id": "6bcbbcf0",
   "metadata": {},
   "source": [
    "We can see from the above example that we passed hello_world function as an argument to the outer_function. The outer function works as decorator, takes it to inner function, composes it with additional functionality and returns it to us for execution. "
   ]
  },
  {
   "cell_type": "code",
   "execution_count": 11,
   "id": "f8530474",
   "metadata": {},
   "outputs": [
    {
     "name": "stdout",
     "output_type": "stream",
     "text": [
      "executing the hello_world  function\n",
      "Hello World\n"
     ]
    }
   ],
   "source": [
    "## an example similar to previous but with an argument to decorated function\n",
    "def outer_func(func):\n",
    "    \n",
    "    def inner_func(message):\n",
    "        print(\"executing the\", func.__name__,\" function\")\n",
    "        func(message)\n",
    "        \n",
    "    return inner_func\n",
    "\n",
    "\n",
    "def hello_world(message):\n",
    "    print(f\"{message}\")\n",
    "\n",
    "return_func = outer_func(hello_world)\n",
    "return_func(\"Hello World\")"
   ]
  },
  {
   "cell_type": "code",
   "execution_count": 4,
   "id": "aa1ab183",
   "metadata": {},
   "outputs": [
    {
     "name": "stdout",
     "output_type": "stream",
     "text": [
      "executing the hello_world  function\n",
      "hello world\n"
     ]
    }
   ],
   "source": [
    "# This same can be done using @ syntax\n",
    "\n",
    "def outer_func(func):\n",
    "    \n",
    "    def inner_func():\n",
    "        print(\"executing the\", func.__name__,\" function\")\n",
    "        func()\n",
    "        \n",
    "    return inner_func\n",
    "\n",
    "# this is the syntax for the decorator (@<decorator_function_name>)\n",
    "@outer_func\n",
    "def hello_world():\n",
    "    print(\"hello world\")\n",
    "    \n",
    "    \n",
    "hello_world()"
   ]
  },
  {
   "cell_type": "code",
   "execution_count": 12,
   "id": "9fa6adfd",
   "metadata": {},
   "outputs": [
    {
     "name": "stdout",
     "output_type": "stream",
     "text": [
      "executing the hello_world  function\n",
      "Hello World\n"
     ]
    }
   ],
   "source": [
    "## using @<decorator_function_name> syntax for second example\n",
    "\n",
    "def outer_func(func):\n",
    "    \n",
    "    def inner_func(message):\n",
    "        print(\"executing the\", func.__name__,\" function\")\n",
    "        func(message)\n",
    "        \n",
    "    return inner_func\n",
    "\n",
    "\n",
    "@outer_func\n",
    "def hello_world(message):\n",
    "    print(f\"{message}\")\n",
    "\n",
    "hello_world('Hello World')"
   ]
  },
  {
   "cell_type": "code",
   "execution_count": 8,
   "id": "46236818",
   "metadata": {},
   "outputs": [
    {
     "name": "stdout",
     "output_type": "stream",
     "text": [
      "dividing  10  by  2\n",
      "5.0\n",
      "dividing  10  by  0\n",
      "cannot divide by 0\n",
      "None\n"
     ]
    }
   ],
   "source": [
    "# decorator with argument\n",
    "\n",
    "def smartdivide(func):\n",
    "    def inner(a,b):\n",
    "        print('dividing ', a, ' by ',b)\n",
    "        if b == 0:\n",
    "            print('cannot divide by 0')\n",
    "            return\n",
    "        return func(a,b)\n",
    "    return inner\n",
    "\n",
    "@smartdivide\n",
    "def divide(a,b):\n",
    "    return a/b\n",
    "\n",
    "return_val = divide(10,2)\n",
    "print(return_val)\n",
    "\n",
    "return2 = divide(10,0)\n",
    "print(return2)"
   ]
  },
  {
   "cell_type": "code",
   "execution_count": 10,
   "id": "f55c5033",
   "metadata": {},
   "outputs": [
    {
     "name": "stdout",
     "output_type": "stream",
     "text": [
      "running function print_noarg  from decorator function\n",
      "Print without argument\n",
      "\n",
      "running function print_args  from decorator function\n",
      "Name: nishant, Message: hello\n",
      "\n"
     ]
    }
   ],
   "source": [
    "# if same decorator needs to be used both for method with and without argument\n",
    "\n",
    "def commondec(func):\n",
    "    def inner(*args):\n",
    "        print('running function', func.__name__, ' from decorator function')\n",
    "        func(*args)\n",
    "        print()\n",
    "    return inner\n",
    "\n",
    "@commondec\n",
    "def print_noarg():\n",
    "    print(\"Print without argument\")\n",
    "@commondec    \n",
    "def print_args(name, msg):\n",
    "    print(f\"Name: {name}, Message: {msg}\")\n",
    "    \n",
    "\n",
    "print_noarg()\n",
    "print_args('nishant', 'hello')"
   ]
  },
  {
   "cell_type": "code",
   "execution_count": 17,
   "id": "9e28b320",
   "metadata": {},
   "outputs": [
    {
     "name": "stdout",
     "output_type": "stream",
     "text": [
      "running function print_noarg  from decorator class\n",
      "Print without argument\n",
      "\n",
      "running function print_args  from decorator class\n",
      "Name: nishant, Message: hello\n",
      "\n"
     ]
    }
   ],
   "source": [
    "#similarly a class can also be used as a decorator, however relatively less used\n",
    "\n",
    "class commondec():\n",
    "    def __init__(self, func):\n",
    "        self.func = func\n",
    "    \n",
    "    def __call__(self, *args):\n",
    "        print('running function', self.func.__name__, ' from decorator class')\n",
    "        self.func(*args)\n",
    "        print()\n",
    "\n",
    "## the __call__ method makes the class object callable as it was a inner function\n",
    "# instance = commondec(), then we can call instance(<arguments>) as a function\n",
    "        \n",
    "@commondec\n",
    "def print_noarg():\n",
    "    print(\"Print without argument\")\n",
    "@commondec    \n",
    "def print_args(name, msg):\n",
    "    print(f\"Name: {name}, Message: {msg}\")\n",
    "    \n",
    "\n",
    "print_noarg()\n",
    "print_args('nishant', 'hello')"
   ]
  },
  {
   "cell_type": "markdown",
   "id": "8ffc0591",
   "metadata": {},
   "source": [
    "<h2> Decorators that take arguments (like decorators used with fastapi http methods, eg: get method takes path as argument) </h2>"
   ]
  },
  {
   "cell_type": "code",
   "execution_count": 1,
   "id": "9cd25e12",
   "metadata": {},
   "outputs": [
    {
     "name": "stdout",
     "output_type": "stream",
     "text": [
      "outer_function\n",
      "inner_function\n",
      "testing  executing function  print_hello  from inside decorator\n",
      "Name: nishant, msg: Hello\n",
      "\n"
     ]
    }
   ],
   "source": [
    "# without the decorator keyword (@, conceptual)\n",
    "\n",
    "def wrapper_function(wrapper_msg):\n",
    "  def outer_function(func):\n",
    "      def inner_function(*args):\n",
    "          print(wrapper_msg, \" executing function \", func.__name__, \" from inside decorator\")\n",
    "          func(*args)\n",
    "          print()\n",
    "      return inner_function\n",
    "  return outer_function\n",
    "\n",
    "def print_hello(name,msg):\n",
    "    print(f\"Name: {name}, msg: {msg}\")\n",
    "    \n",
    "wrapper_func= wrapper_function(\"testing\")\n",
    "print(wrapper_func.__name__)\n",
    "returned_func = wrapper_func(print_hello)\n",
    "print(returned_func.__name__)\n",
    "returned_func(\"nishant\",\"Hello\")"
   ]
  },
  {
   "cell_type": "code",
   "execution_count": 3,
   "id": "ca88efb1",
   "metadata": {},
   "outputs": [
    {
     "name": "stdout",
     "output_type": "stream",
     "text": [
      "testing : executing function  print_hello  from inside decorator\n",
      "Name: nishant, msg: Hello\n",
      "\n"
     ]
    }
   ],
   "source": [
    "# using the @<decorator> format\n",
    "\n",
    "def wrapper_function(wrapper_msg):\n",
    "  def outer_function(func):\n",
    "      def inner_function(*args):\n",
    "          print(wrapper_msg, \": executing function \", func.__name__, \" from inside decorator\")\n",
    "          func(*args)\n",
    "          print()\n",
    "      return inner_function\n",
    "  return outer_function\n",
    "\n",
    "@wrapper_function(\"testing\")\n",
    "def print_hello(name,msg):\n",
    "    print(f\"Name: {name}, msg: {msg}\")\n",
    "    \n",
    "print_hello(\"nishant\",\"Hello\")"
   ]
  },
  {
   "cell_type": "code",
   "execution_count": null,
   "id": "6da604a4",
   "metadata": {},
   "outputs": [],
   "source": []
  }
 ],
 "metadata": {
  "kernelspec": {
   "display_name": "Python 3 (ipykernel)",
   "language": "python",
   "name": "python3"
  },
  "language_info": {
   "codemirror_mode": {
    "name": "ipython",
    "version": 3
   },
   "file_extension": ".py",
   "mimetype": "text/x-python",
   "name": "python",
   "nbconvert_exporter": "python",
   "pygments_lexer": "ipython3",
   "version": "3.10.6"
  }
 },
 "nbformat": 4,
 "nbformat_minor": 5
}
